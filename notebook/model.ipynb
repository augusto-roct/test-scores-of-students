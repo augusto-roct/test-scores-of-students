{
 "cells": [
  {
   "cell_type": "code",
   "execution_count": 2,
   "metadata": {},
   "outputs": [],
   "source": [
    "import pandas as pd\n",
    "import numpy as np\n",
    "import matplotlib.pyplot as plt\n",
    "from sklearn.preprocessing import OneHotEncoder\n",
    "from sklearn.model_selection import train_test_split\n",
    "from sklearn import svm\n",
    "from sklearn.neighbors import KNeighborsRegressor\n",
    "from sklearn.gaussian_process import GaussianProcessRegressor\n",
    "from sklearn.ensemble import RandomForestRegressor\n",
    "from sklearn import metrics\n",
    "import math\n",
    "import requests\n",
    "import json\n",
    "\n",
    "url ='http://127.0.0.1:8000'"
   ]
  },
  {
   "cell_type": "code",
   "execution_count": 3,
   "metadata": {},
   "outputs": [
    {
     "data": {
      "text/html": [
       "<div>\n",
       "<style scoped>\n",
       "    .dataframe tbody tr th:only-of-type {\n",
       "        vertical-align: middle;\n",
       "    }\n",
       "\n",
       "    .dataframe tbody tr th {\n",
       "        vertical-align: top;\n",
       "    }\n",
       "\n",
       "    .dataframe thead th {\n",
       "        text-align: right;\n",
       "    }\n",
       "</style>\n",
       "<table border=\"1\" class=\"dataframe\">\n",
       "  <thead>\n",
       "    <tr style=\"text-align: right;\">\n",
       "      <th></th>\n",
       "      <th>school_setting</th>\n",
       "      <th>school_type</th>\n",
       "      <th>teaching_method</th>\n",
       "      <th>n_student</th>\n",
       "      <th>lunch</th>\n",
       "      <th>pretest</th>\n",
       "      <th>posttest</th>\n",
       "    </tr>\n",
       "  </thead>\n",
       "  <tbody>\n",
       "    <tr>\n",
       "      <th>0</th>\n",
       "      <td>Urban</td>\n",
       "      <td>Non-public</td>\n",
       "      <td>Standard</td>\n",
       "      <td>20.0</td>\n",
       "      <td>Does not qualify</td>\n",
       "      <td>62.0</td>\n",
       "      <td>72.0</td>\n",
       "    </tr>\n",
       "    <tr>\n",
       "      <th>1</th>\n",
       "      <td>Urban</td>\n",
       "      <td>Non-public</td>\n",
       "      <td>Standard</td>\n",
       "      <td>20.0</td>\n",
       "      <td>Does not qualify</td>\n",
       "      <td>66.0</td>\n",
       "      <td>79.0</td>\n",
       "    </tr>\n",
       "    <tr>\n",
       "      <th>2</th>\n",
       "      <td>Urban</td>\n",
       "      <td>Non-public</td>\n",
       "      <td>Standard</td>\n",
       "      <td>20.0</td>\n",
       "      <td>Does not qualify</td>\n",
       "      <td>64.0</td>\n",
       "      <td>76.0</td>\n",
       "    </tr>\n",
       "    <tr>\n",
       "      <th>3</th>\n",
       "      <td>Urban</td>\n",
       "      <td>Non-public</td>\n",
       "      <td>Standard</td>\n",
       "      <td>20.0</td>\n",
       "      <td>Does not qualify</td>\n",
       "      <td>61.0</td>\n",
       "      <td>77.0</td>\n",
       "    </tr>\n",
       "    <tr>\n",
       "      <th>4</th>\n",
       "      <td>Urban</td>\n",
       "      <td>Non-public</td>\n",
       "      <td>Standard</td>\n",
       "      <td>20.0</td>\n",
       "      <td>Does not qualify</td>\n",
       "      <td>64.0</td>\n",
       "      <td>76.0</td>\n",
       "    </tr>\n",
       "    <tr>\n",
       "      <th>...</th>\n",
       "      <td>...</td>\n",
       "      <td>...</td>\n",
       "      <td>...</td>\n",
       "      <td>...</td>\n",
       "      <td>...</td>\n",
       "      <td>...</td>\n",
       "      <td>...</td>\n",
       "    </tr>\n",
       "    <tr>\n",
       "      <th>2128</th>\n",
       "      <td>Urban</td>\n",
       "      <td>Public</td>\n",
       "      <td>Standard</td>\n",
       "      <td>30.0</td>\n",
       "      <td>Does not qualify</td>\n",
       "      <td>39.0</td>\n",
       "      <td>55.0</td>\n",
       "    </tr>\n",
       "    <tr>\n",
       "      <th>2129</th>\n",
       "      <td>Urban</td>\n",
       "      <td>Public</td>\n",
       "      <td>Standard</td>\n",
       "      <td>30.0</td>\n",
       "      <td>Qualifies for reduced/free lunch</td>\n",
       "      <td>38.0</td>\n",
       "      <td>46.0</td>\n",
       "    </tr>\n",
       "    <tr>\n",
       "      <th>2130</th>\n",
       "      <td>Urban</td>\n",
       "      <td>Public</td>\n",
       "      <td>Standard</td>\n",
       "      <td>30.0</td>\n",
       "      <td>Qualifies for reduced/free lunch</td>\n",
       "      <td>45.0</td>\n",
       "      <td>51.0</td>\n",
       "    </tr>\n",
       "    <tr>\n",
       "      <th>2131</th>\n",
       "      <td>Urban</td>\n",
       "      <td>Public</td>\n",
       "      <td>Standard</td>\n",
       "      <td>30.0</td>\n",
       "      <td>Qualifies for reduced/free lunch</td>\n",
       "      <td>46.0</td>\n",
       "      <td>53.0</td>\n",
       "    </tr>\n",
       "    <tr>\n",
       "      <th>2132</th>\n",
       "      <td>Urban</td>\n",
       "      <td>Public</td>\n",
       "      <td>Standard</td>\n",
       "      <td>30.0</td>\n",
       "      <td>Qualifies for reduced/free lunch</td>\n",
       "      <td>41.0</td>\n",
       "      <td>48.0</td>\n",
       "    </tr>\n",
       "  </tbody>\n",
       "</table>\n",
       "<p>2133 rows × 7 columns</p>\n",
       "</div>"
      ],
      "text/plain": [
       "     school_setting school_type teaching_method  n_student  \\\n",
       "0             Urban  Non-public        Standard       20.0   \n",
       "1             Urban  Non-public        Standard       20.0   \n",
       "2             Urban  Non-public        Standard       20.0   \n",
       "3             Urban  Non-public        Standard       20.0   \n",
       "4             Urban  Non-public        Standard       20.0   \n",
       "...             ...         ...             ...        ...   \n",
       "2128          Urban      Public        Standard       30.0   \n",
       "2129          Urban      Public        Standard       30.0   \n",
       "2130          Urban      Public        Standard       30.0   \n",
       "2131          Urban      Public        Standard       30.0   \n",
       "2132          Urban      Public        Standard       30.0   \n",
       "\n",
       "                                 lunch  pretest  posttest  \n",
       "0                     Does not qualify     62.0      72.0  \n",
       "1                     Does not qualify     66.0      79.0  \n",
       "2                     Does not qualify     64.0      76.0  \n",
       "3                     Does not qualify     61.0      77.0  \n",
       "4                     Does not qualify     64.0      76.0  \n",
       "...                                ...      ...       ...  \n",
       "2128                  Does not qualify     39.0      55.0  \n",
       "2129  Qualifies for reduced/free lunch     38.0      46.0  \n",
       "2130  Qualifies for reduced/free lunch     45.0      51.0  \n",
       "2131  Qualifies for reduced/free lunch     46.0      53.0  \n",
       "2132  Qualifies for reduced/free lunch     41.0      48.0  \n",
       "\n",
       "[2133 rows x 7 columns]"
      ]
     },
     "execution_count": 3,
     "metadata": {},
     "output_type": "execute_result"
    }
   ],
   "source": [
    "df = pd.read_csv(\"../data/test_scores.csv\")\n",
    "df.drop(['school', 'classroom', 'student_id', 'gender'], axis=1, inplace=True)\n",
    "df"
   ]
  },
  {
   "cell_type": "code",
   "execution_count": 4,
   "metadata": {},
   "outputs": [
    {
     "data": {
      "text/plain": [
       "array([72., 79., 76., ..., 51., 53., 48.])"
      ]
     },
     "execution_count": 4,
     "metadata": {},
     "output_type": "execute_result"
    }
   ],
   "source": [
    "y = df['posttest'].values\n",
    "y"
   ]
  },
  {
   "cell_type": "code",
   "execution_count": 6,
   "metadata": {},
   "outputs": [
    {
     "data": {
      "text/plain": [
       "array([['Urban', 'Non-public', 'Standard', 20.0, 'Does not qualify'],\n",
       "       ['Urban', 'Non-public', 'Standard', 20.0, 'Does not qualify'],\n",
       "       ['Urban', 'Non-public', 'Standard', 20.0, 'Does not qualify'],\n",
       "       ...,\n",
       "       ['Urban', 'Public', 'Standard', 30.0,\n",
       "        'Qualifies for reduced/free lunch'],\n",
       "       ['Urban', 'Public', 'Standard', 30.0,\n",
       "        'Qualifies for reduced/free lunch'],\n",
       "       ['Urban', 'Public', 'Standard', 30.0,\n",
       "        'Qualifies for reduced/free lunch']], dtype=object)"
      ]
     },
     "execution_count": 6,
     "metadata": {},
     "output_type": "execute_result"
    }
   ],
   "source": [
    "x = df[['school_setting', 'school_type', 'teaching_method', 'n_student',\n",
    "       'lunch']].values\n",
    "x"
   ]
  },
  {
   "cell_type": "code",
   "execution_count": 7,
   "metadata": {},
   "outputs": [],
   "source": [
    "enconding = OneHotEncoder()"
   ]
  },
  {
   "cell_type": "code",
   "execution_count": 8,
   "metadata": {},
   "outputs": [
    {
     "data": {
      "text/plain": [
       "[array(['Rural', 'Suburban', 'Urban'], dtype=object),\n",
       " array(['Non-public', 'Public'], dtype=object),\n",
       " array(['Experimental', 'Standard'], dtype=object),\n",
       " array([14.0, 15.0, 16.0, 17.0, 18.0, 19.0, 20.0, 21.0, 22.0, 23.0, 24.0,\n",
       "        25.0, 26.0, 27.0, 28.0, 29.0, 30.0, 31.0], dtype=object),\n",
       " array(['Does not qualify', 'Qualifies for reduced/free lunch'],\n",
       "       dtype=object)]"
      ]
     },
     "execution_count": 8,
     "metadata": {},
     "output_type": "execute_result"
    }
   ],
   "source": [
    "enconding.fit(x)\n",
    "enconding.categories_"
   ]
  },
  {
   "cell_type": "code",
   "execution_count": 9,
   "metadata": {},
   "outputs": [
    {
     "data": {
      "text/plain": [
       "array([[0., 0., 1., ..., 0., 1., 0.],\n",
       "       [0., 0., 1., ..., 0., 1., 0.],\n",
       "       [0., 0., 1., ..., 0., 1., 0.],\n",
       "       ...,\n",
       "       [0., 0., 1., ..., 0., 0., 1.],\n",
       "       [0., 0., 1., ..., 0., 0., 1.],\n",
       "       [0., 0., 1., ..., 0., 0., 1.]])"
      ]
     },
     "execution_count": 9,
     "metadata": {},
     "output_type": "execute_result"
    }
   ],
   "source": [
    "x = enconding.transform(x).toarray()\n",
    "x"
   ]
  },
  {
   "cell_type": "code",
   "execution_count": 10,
   "metadata": {},
   "outputs": [],
   "source": [
    "X_train, X_test, y_train, y_test = train_test_split(x, y, test_size=0.33, random_state=42)"
   ]
  },
  {
   "cell_type": "code",
   "execution_count": 11,
   "metadata": {},
   "outputs": [
    {
     "name": "stdout",
     "output_type": "stream",
     "text": [
      "Support Vector Machine\n",
      "Score:  0.7826118625563451\n",
      "Root mean squared error:  6.591481267328312\n",
      "Mean absolute error:  5.032668405653811\n",
      "Root mean squared log error 1.8857780982681813\n"
     ]
    }
   ],
   "source": [
    "svmR = svm.SVR()\n",
    "svmR.fit(X_train, y_train)\n",
    "\n",
    "score = svmR.score(X_test, y_test)\n",
    "rmse = math.sqrt(metrics.mean_squared_error(y_test, svmR.predict(X_test)))\n",
    "mae = metrics.mean_absolute_error(y_test, svmR.predict(X_test))\n",
    "rmsle = np.log(np.sqrt(metrics.mean_squared_error(y_test, svmR.predict(X_test))))\n",
    "\n",
    "print('Support Vector Machine')\n",
    "print('Score: ', score)\n",
    "print('Root mean squared error: ', rmse)\n",
    "print('Mean absolute error: ', mae)\n",
    "print(\"Root mean squared log error\", rmsle)\n",
    "\n",
    "data = { \"svm\": {\n",
    "    \"score\": score,\n",
    "    \"rmse\": rmse,\n",
    "    \"mae\": mae,\n",
    "    \"rmsle\": rmsle\n",
    "    }\n",
    "}"
   ]
  },
  {
   "cell_type": "code",
   "execution_count": 12,
   "metadata": {},
   "outputs": [
    {
     "name": "stdout",
     "output_type": "stream",
     "text": [
      "K-Nearest Neighbors Regressor\n",
      "Score:  0.8429196590465041\n",
      "Root mean squared error:  5.60306962338908\n",
      "Mean absolute error:  4.149857954545454\n",
      "Root mean squared log error 1.7233145945971597\n"
     ]
    }
   ],
   "source": [
    "knn = KNeighborsRegressor(n_neighbors=10)\n",
    "knn.fit(X_train, y_train)\n",
    "\n",
    "score = knn.score(X_test, y_test)\n",
    "rmse = math.sqrt(metrics.mean_squared_error(y_test, knn.predict(X_test)))\n",
    "mae = metrics.mean_absolute_error(y_test, knn.predict(X_test))\n",
    "rmsle = np.log(np.sqrt(metrics.mean_squared_error(y_test, knn.predict(X_test))))\n",
    "\n",
    "print('K-Nearest Neighbors Regressor')\n",
    "print('Score: ', score)\n",
    "print('Root mean squared error: ', rmse)\n",
    "print('Mean absolute error: ', mae)\n",
    "print(\"Root mean squared log error\", rmsle)\n",
    "\n",
    "data[\"knn\"] = {\n",
    "    \"score\": score,\n",
    "    \"rmse\": rmse,\n",
    "    \"mae\": mae,\n",
    "    \"rmsle\": rmsle\n",
    "}"
   ]
  },
  {
   "cell_type": "code",
   "execution_count": 13,
   "metadata": {},
   "outputs": [
    {
     "name": "stdout",
     "output_type": "stream",
     "text": [
      "Gaussian Process Regressor\n",
      "Score:  0.8627561407325227\n",
      "Root mean squared error:  5.2373495722204355\n",
      "Mean absolute error:  3.8992105939171533\n",
      "Root mean squared log error 1.6558155635413643\n"
     ]
    }
   ],
   "source": [
    "gpr = GaussianProcessRegressor()\n",
    "gpr.fit(X_train, y_train)\n",
    "\n",
    "score = gpr.score(X_test, y_test)\n",
    "rmse = math.sqrt(metrics.mean_squared_error(y_test, gpr.predict(X_test)))\n",
    "mae = metrics.mean_absolute_error(y_test, gpr.predict(X_test))\n",
    "rmsle = np.log(np.sqrt(metrics.mean_squared_error(y_test, gpr.predict(X_test))))\n",
    "\n",
    "print('Gaussian Process Regressor')\n",
    "print('Score: ', score)\n",
    "print('Root mean squared error: ', rmse)\n",
    "print('Mean absolute error: ', mae)\n",
    "print(\"Root mean squared log error\", rmsle)\n",
    "\n",
    "data[\"gpr\"] = {\n",
    "    \"score\": score,\n",
    "    \"rmse\": rmse,\n",
    "    \"mae\": mae,\n",
    "    \"rmsle\": rmsle\n",
    "}"
   ]
  },
  {
   "cell_type": "code",
   "execution_count": 14,
   "metadata": {},
   "outputs": [
    {
     "name": "stdout",
     "output_type": "stream",
     "text": [
      "Random Forest Regressor\n",
      "Score:  0.8585431321303344\n",
      "Root mean squared error:  5.317128060894607\n",
      "Mean absolute error:  3.9630040507205395\n",
      "Root mean squared log error 1.6709333194107565\n",
      "{\"message\":\"Insert datas on test-scores-of-students -> models works!\"}\n"
     ]
    }
   ],
   "source": [
    "rfr = RandomForestRegressor()\n",
    "rfr.fit(X_train, y_train)\n",
    "\n",
    "score = rfr.score(X_test, y_test)\n",
    "rmse = math.sqrt(metrics.mean_squared_error(y_test, rfr.predict(X_test)))\n",
    "mae = metrics.mean_absolute_error(y_test, rfr.predict(X_test))\n",
    "rmsle = np.log(np.sqrt(metrics.mean_squared_error(y_test, rfr.predict(X_test))))\n",
    "\n",
    "print('Random Forest Regressor')\n",
    "print('Score: ', score)\n",
    "print('Root mean squared error: ', rmse)\n",
    "print('Mean absolute error: ', mae)\n",
    "print(\"Root mean squared log error\", rmsle)\n",
    "\n",
    "\n",
    "data[\"rfr\"] = {\n",
    "    \"score\": score,\n",
    "    \"rmse\": rmse,\n",
    "    \"mae\": mae,\n",
    "    \"rmsle\": rmsle\n",
    "}\n",
    "data = json.dumps(data)\n",
    "headers = {\n",
    "        \"accept\": \"application/json\",\n",
    "        \"Content-Type\": \"application/json\" \n",
    "}\n",
    "print(requests.post(url + \"/test-scores-of-students/models\", data=data, headers=headers).text)"
   ]
  },
  {
   "cell_type": "code",
   "execution_count": null,
   "metadata": {},
   "outputs": [],
   "source": []
  }
 ],
 "metadata": {
  "interpreter": {
   "hash": "5179d32cf6ec497baf3f8a3ef987cc77c5d2dc691fdde20a56316522f61a7323"
  },
  "kernelspec": {
   "display_name": "Python 3.8.5 64-bit ('anaconda')",
   "language": "python",
   "name": "python3"
  },
  "language_info": {
   "codemirror_mode": {
    "name": "ipython",
    "version": 3
   },
   "file_extension": ".py",
   "mimetype": "text/x-python",
   "name": "python",
   "nbconvert_exporter": "python",
   "pygments_lexer": "ipython3",
   "version": "3.8.5"
  },
  "orig_nbformat": 4
 },
 "nbformat": 4,
 "nbformat_minor": 2
}
